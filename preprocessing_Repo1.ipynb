{
  "nbformat": 4,
  "nbformat_minor": 0,
  "metadata": {
    "colab": {
      "provenance": [],
      "authorship_tag": "ABX9TyPtLUQE8gQqM916MmULM3ss",
      "include_colab_link": true
    },
    "kernelspec": {
      "name": "python3",
      "display_name": "Python 3"
    },
    "language_info": {
      "name": "python"
    }
  },
  "cells": [
    {
      "cell_type": "markdown",
      "metadata": {
        "id": "view-in-github",
        "colab_type": "text"
      },
      "source": [
        "<a href=\"https://colab.research.google.com/github/HaniAmiraaDa/PPBMyDessertDaftarMenuMakanan/blob/master/preprocessing_Repo1.ipynb\" target=\"_parent\"><img src=\"https://colab.research.google.com/assets/colab-badge.svg\" alt=\"Open In Colab\"/></a>"
      ]
    },
    {
      "cell_type": "code",
      "execution_count": null,
      "metadata": {
        "colab": {
          "base_uri": "https://localhost:8080/"
        },
        "id": "SGCQBim84Tmf",
        "outputId": "fe4fb6e1-9ff4-4b6b-d88b-b23888db65c8"
      },
      "outputs": [
        {
          "output_type": "stream",
          "name": "stdout",
          "text": [
            "Drive already mounted at /content/drive/; to attempt to forcibly remount, call drive.mount(\"/content/drive/\", force_remount=True).\n"
          ]
        }
      ],
      "source": [
        "from google.colab import drive\n",
        "drive.mount(\"/content/drive/\")"
      ]
    },
    {
      "cell_type": "code",
      "source": [
        "import numpy as np\n",
        "import matplotlib.pyplot as plt\n",
        "import pandas as pd"
      ],
      "metadata": {
        "id": "3neKw3NyBoEC"
      },
      "execution_count": null,
      "outputs": []
    },
    {
      "cell_type": "code",
      "source": [
        "Dataset = pd.read_csv(\"/content/drive/MyDrive/heart_attack_prediction_dataset.csv\")\n",
        "\n",
        "# importing an array of features\n",
        "x = Dataset.iloc[:, :-1].values\n",
        "# importing an array of dependent variable\n",
        "y = Dataset.iloc[:, -1].values"
      ],
      "metadata": {
        "id": "TeIneD6iDgUA"
      },
      "execution_count": null,
      "outputs": []
    },
    {
      "cell_type": "code",
      "source": [
        "print(x) # returns an array of features"
      ],
      "metadata": {
        "colab": {
          "base_uri": "https://localhost:8080/"
        },
        "id": "6GTNnI2sD0uS",
        "outputId": "32ffabc4-0641-4563-8b7e-149a20e0c7d8"
      },
      "execution_count": null,
      "outputs": [
        {
          "output_type": "stream",
          "name": "stdout",
          "text": [
            "[['BMW7812' 67 'Male' ... 'Argentina' 'South America'\n",
            "  'Southern Hemisphere']\n",
            " ['CZE1114' 21 'Male' ... 'Canada' 'North America' 'Northern Hemisphere']\n",
            " ['BNI9906' 21 'Female' ... 'France' 'Europe' 'Northern Hemisphere']\n",
            " ...\n",
            " ['XKA5925' 47 'Male' ... 'Brazil' 'South America' 'Southern Hemisphere']\n",
            " ['EPE6801' 36 'Male' ... 'Brazil' 'South America' 'Southern Hemisphere']\n",
            " ['ZWN9666' 25 'Female' ... 'United Kingdom' 'Europe'\n",
            "  'Northern Hemisphere']]\n"
          ]
        }
      ]
    },
    {
      "cell_type": "code",
      "source": [
        "print(y) # viewing an array of the dependent variable."
      ],
      "metadata": {
        "colab": {
          "base_uri": "https://localhost:8080/"
        },
        "id": "7KQlfF68EMlr",
        "outputId": "4fa1485d-5a3a-4fe2-d9e6-80838b4b0ffd"
      },
      "execution_count": null,
      "outputs": [
        {
          "output_type": "stream",
          "name": "stdout",
          "text": [
            "[0 0 0 ... 1 0 1]\n"
          ]
        }
      ]
    },
    {
      "cell_type": "code",
      "source": [
        "from sklearn.model_selection import train_test_split\n",
        "x_train, x_test, y_train, y_test = train_test_split(x, y, test_size = 0.2,random_state= 1)"
      ],
      "metadata": {
        "id": "yhj1LlCAF2wG"
      },
      "execution_count": null,
      "outputs": []
    },
    {
      "cell_type": "code",
      "source": [
        "print(x_train)"
      ],
      "metadata": {
        "colab": {
          "base_uri": "https://localhost:8080/"
        },
        "id": "vw0ZJcOAF89a",
        "outputId": "9b734a6e-9bd9-402b-c278-954aa7ac1863"
      },
      "execution_count": null,
      "outputs": [
        {
          "output_type": "stream",
          "name": "stdout",
          "text": [
            "[['HRM3348' 54 'Male' ... 'Argentina' 'South America'\n",
            "  'Southern Hemisphere']\n",
            " ['YOD3294' 31 'Male' ... 'United States' 'North America'\n",
            "  'Northern Hemisphere']\n",
            " ['KNJ1597' 27 'Male' ... 'Canada' 'North America' 'Northern Hemisphere']\n",
            " ...\n",
            " ['BKP7949' 79 'Male' ... 'United States' 'North America'\n",
            "  'Northern Hemisphere']\n",
            " ['VZZ5398' 50 'Male' ... 'Italy' 'Europe' 'Southern Hemisphere']\n",
            " ['KZY7247' 75 'Female' ... 'Brazil' 'South America'\n",
            "  'Southern Hemisphere']]\n"
          ]
        }
      ]
    },
    {
      "cell_type": "code",
      "source": [
        "print(x_test)"
      ],
      "metadata": {
        "colab": {
          "base_uri": "https://localhost:8080/"
        },
        "id": "aQnbsbGjGm-B",
        "outputId": "55cf4a83-3027-4f17-bdc5-a76f9eefd068"
      },
      "execution_count": null,
      "outputs": [
        {
          "output_type": "stream",
          "name": "stdout",
          "text": [
            "[['ZMM8868' 57 'Male' ... 'Thailand' 'Asia' 'Northern Hemisphere']\n",
            " ['GAV2034' 19 'Female' ... 'Spain' 'Europe' 'Southern Hemisphere']\n",
            " ['JLR6973' 89 'Female' ... 'Canada' 'North America'\n",
            "  'Northern Hemisphere']\n",
            " ...\n",
            " ['NIU0083' 86 'Male' ... 'Spain' 'Europe' 'Southern Hemisphere']\n",
            " ['PFA1167' 28 'Female' ... 'Argentina' 'South America'\n",
            "  'Southern Hemisphere']\n",
            " ['RMS3012' 20 'Male' ... 'United Kingdom' 'Europe' 'Northern Hemisphere']]\n"
          ]
        }
      ]
    },
    {
      "cell_type": "code",
      "source": [
        "print(y_train)"
      ],
      "metadata": {
        "colab": {
          "base_uri": "https://localhost:8080/"
        },
        "id": "pPbWHA3kGvDZ",
        "outputId": "d137eaa1-fab8-4cd0-cdae-fc1e70bc88f6"
      },
      "execution_count": null,
      "outputs": [
        {
          "output_type": "stream",
          "name": "stdout",
          "text": [
            "[1 0 0 ... 0 1 0]\n"
          ]
        }
      ]
    },
    {
      "cell_type": "code",
      "source": [
        "print(y_test)"
      ],
      "metadata": {
        "colab": {
          "base_uri": "https://localhost:8080/"
        },
        "id": "m2hKw1FLG0um",
        "outputId": "3887e26a-405e-4bae-ea56-691e0d69cab4"
      },
      "execution_count": null,
      "outputs": [
        {
          "output_type": "stream",
          "name": "stdout",
          "text": [
            "[1 0 0 ... 0 0 1]\n"
          ]
        }
      ]
    },
    {
      "cell_type": "code",
      "source": [],
      "metadata": {
        "id": "RPwDe_9mG6Tr"
      },
      "execution_count": null,
      "outputs": []
    }
  ]
}